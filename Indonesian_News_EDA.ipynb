import pandas as pd
import numpy as np
import matplotlib.pyplot as plt
import seaborn as sns
from wordcloud import WordCloud
from collections import Counter
import nltk
from nltk.corpus import stopwords
nltk.download('stopwords')

# Untuk visualisasi interaktif (opsional)
import plotly.express as px
