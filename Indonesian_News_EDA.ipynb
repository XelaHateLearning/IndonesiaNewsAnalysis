import pandas as pd
import numpy as np
import matplotlib.pyplot as plt
import seaborn as sns
from wordcloud import WordCloud
from collections import Counter
import nltk
from nltk.corpus import stopwords
nltk.download('stopwords')

# Untuk visualisasi interaktif
import plotly.express as px

df = pd.read_csv('/content/indonesian_news_dataset.csv')
print(df.head())
print(df.info())  # Cek tipe data dan missing values

df.dropna(subset=['text', 'category'], inplace=True)  # Hapus baris dengan teks/kategori kosong

df.drop_duplicates(subset=['text'], inplace=True)

# Hitung frekuensi kategori
category_counts = df['category'].value_counts()

# Visualisasi
plt.figure(figsize=(10, 6))
sns.barplot(x=category_counts.index, y=category_counts.values, palette='viridis')
plt.title('Distribusi Kategori Berita', fontsize=15)
plt.xticks(rotation=45)
plt.show()

# Bandingkan panjang teks antar kategori
plt.figure(figsize=(12, 6))
sns.boxplot(x='category', y='text_length', data=df, palette='Set2')
plt.title('Distribusi Panjang Teks per Kategori', fontsize=15)
plt.xticks(rotation=45)
plt.show()

def generate_wordcloud(text, title):
    wordcloud = WordCloud(width=800, height=400, background_color='white').generate(text)
    plt.figure(figsize=(10, 5))
    plt.imshow(wordcloud, interpolation='bilinear')
    plt.title(title, fontsize=15)
    plt.axis('off')
    plt.show()

# Olahraga
olahraga_text = ' '.join(df[df['category'] == 'Olahraga']['text'])
generate_wordcloud(olahraga_text, 'Kata Kunci Dominan di Kategori Olahraga')

#Politik
politik_text = ' '.join(df[df['category'] == 'Politik']['text'])
generate_wordcloud(politik_text, 'Kata Kunci Dominan di Kategori Politik')

# Teknologi
teknologi_text = ' '.join(df[df['category'] == 'Teknologi']['text'])
generate_wordcloud(teknologi_text, 'Kata Kunci Dominan di Kategori Teknologi')

# Ambil stopwords bahasa Indonesia
stopwords_id = set(stopwords.words('indonesian'))

# Fungsi untuk ekstrak kata kunci
def get_top_words(category, n=10):
    words = ' '.join(df[df['category'] == category]['text']).split()
    words = [word for word in words if word.lower() not in stopwords_id and len(word) > 2]
    return Counter(words).most_common(n)

# Contoh untuk kategori 'hiburan'
print(get_top_words('Politik'))
print(get_top_words('Olahraga'))
print(get_top_words('Teknologi'))

# Hitung rata-rata panjang teks per kategori
mean_length = df.groupby('category')['text_length'].mean().sort_values()

# Visualisasi
plt.figure(figsize=(10, 6))
sns.barplot(x=mean_length.index, y=mean_length.values, palette='rocket')
plt.title('Rata-rata Panjang Teks per Kategori', fontsize=15)
plt.xticks(rotation=45)
plt.show()

import plotly.express as px
fig = px.treemap(df, path=['category'], title='Proporsi Kategori Berita')
fig.show()
